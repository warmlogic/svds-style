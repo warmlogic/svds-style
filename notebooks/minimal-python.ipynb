{
 "cells": [
  {
   "cell_type": "code",
   "execution_count": null,
   "metadata": {
    "collapsed": true,
    "deletable": true,
    "editable": true
   },
   "outputs": [],
   "source": [
    "%matplotlib inline\n",
    "%config InlineBackend.figure_format='retina'\n",
    "%load_ext autoreload\n",
    "# \"1\" means: always reload modules marked with \"%aimport\"\n",
    "# \"2\" means: always reload all modules except those marked with \"%aimport\"\n",
    "%autoreload 1\n",
    "\n",
    "# from __future__ import absolute_import, division, print_function\n",
    "import os\n",
    "import sys\n",
    "\n",
    "import matplotlib.pyplot as plt\n",
    "# import matplotlib as mpl\n",
    "# from matplotlib.pyplot import GridSpec\n",
    "\n",
    "import numpy as np\n",
    "import pandas as pd\n",
    "import seaborn as sns\n",
    "\n",
    "from tqdm import tqdm\n",
    "import warnings\n",
    "\n",
    "# sns.set_context(\"poster\", font_scale=1.3)\n",
    "# sns.set_context(\"notebook\", font_scale=1.0)\n",
    "\n",
    "# pd.set_option('display.max_columns', 100)\n",
    "# pd.set_option('display.max_rows', 100)"
   ]
  },
  {
   "cell_type": "code",
   "execution_count": 1,
   "metadata": {
    "collapsed": false,
    "deletable": true,
    "editable": true
   },
   "outputs": [],
   "source": [
    "# Example for adding path\n",
    "# write code in ../src and add that to runtime path\n",
    "# src_dir = os.path.join(os.getcwd(), os.pardir, 'src')\n",
    "# sys.path.append(src_dir)\n",
    "\n",
    "# Import like so\n",
    "# # import my_module from the source directory\n",
    "# %aimport my_module\n",
    "# from my_module.build_features import remove_invalid_data"
   ]
  },
  {
   "cell_type": "code",
   "execution_count": null,
   "metadata": {
    "collapsed": true,
    "deletable": true,
    "editable": true
   },
   "outputs": [],
   "source": []
  }
 ],
 "metadata": {
  "anaconda-cloud": {},
  "kernelspec": {
   "display_name": "Python 3",
   "language": "python",
   "name": "python3"
  },
  "language_info": {
   "codemirror_mode": {
    "name": "ipython",
    "version": 3
   },
   "file_extension": ".py",
   "mimetype": "text/x-python",
   "name": "python",
   "nbconvert_exporter": "python",
   "pygments_lexer": "ipython3",
   "version": "3.6.0"
  }
 },
 "nbformat": 4,
 "nbformat_minor": 0
}
